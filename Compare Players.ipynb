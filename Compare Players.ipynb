{
 "cells": [
  {
   "cell_type": "code",
   "execution_count": 31,
   "metadata": {},
   "outputs": [],
   "source": [
    "from urllib.request import urlopen\n",
    "from selenium import webdriver\n",
    "from bs4 import BeautifulSoup\n",
    "from random import randint\n",
    "import requests\n",
    "import time\n",
    "import csv"
   ]
  },
  {
   "cell_type": "code",
   "execution_count": 32,
   "metadata": {},
   "outputs": [],
   "source": [
    "all_urls = []\n",
    "headers = ['Year','Name','Team', 'Position', 'Points','Assists', 'Blocks','Steals','Rebounds','Field Goal %','Free Throw %','Effective Field Goal %','Url']"
   ]
  },
  {
   "cell_type": "code",
   "execution_count": 33,
   "metadata": {},
   "outputs": [
    {
     "data": {
      "text/plain": [
       "116"
      ]
     },
     "execution_count": 33,
     "metadata": {},
     "output_type": "execute_result"
    }
   ],
   "source": [
    "f = open(\"all_stats.csv\", 'w', newline='', encoding='utf-8')\n",
    "writer = csv.writer(f)\n",
    "writer.writerow(headers)"
   ]
  },
  {
   "cell_type": "code",
   "execution_count": 34,
   "metadata": {},
   "outputs": [],
   "source": [
    "def scrape_page(table):\n",
    "    \n",
    "    \n",
    "    \n",
    "    for tr in table.findAll('tr')[1:]:\n",
    "            try:\n",
    "        #print(tr)\n",
    "                deep = bs.find('h1', {'itemprop': 'name'})\n",
    "                year = deep.find('span').get_text()\n",
    "                name = tr.find('a')\n",
    "                name = name.text\n",
    "                tm = tr.find('td', {'data-stat': 'team_id'})\n",
    "                pos = tr.find('td', {'class': 'center'})\n",
    "                pts = tr.find('td', {'data-stat': 'pts_per_g'})\n",
    "                asts = tr.find('td', {'data-stat': 'ast_per_g'})\n",
    "                blks = tr.find('td', {'data-stat': 'blk_per_g'})\n",
    "                stls = tr.find('td', {'data-stat': 'stl_per_g'})\n",
    "                rbs = tr.find('td', {'data-stat': 'trb_per_g'})\n",
    "                fgp = tr.find('td', {'data-stat': 'fg_pct'})\n",
    "                ftp = tr.find('td', {'data-stat': 'ft_pct'})\n",
    "                efg = tr.find('td', {'data-stat': 'efg_pct'})\n",
    "                url_td = tr.find('td', {'data-stat': 'player'})\n",
    "                url2 = url_td.find('a')\n",
    "                url3 = ('https://www.basketball-reference.com' + url2.get('href'))\n",
    "                \n",
    "                    #all_urls.append(all_links.get('href'))\n",
    "            \n",
    "        \n",
    "            #team = tr.find('td'[3], {'data-stat': 'team_id'})\n",
    "            #print(name)\n",
    "                pos = pos.string\n",
    "                pts = pts.string\n",
    "                asts = asts.string\n",
    "                blks = blks.string\n",
    "                stls = stls.string\n",
    "                rbs = rbs.string\n",
    "                fgp = fgp.string\n",
    "                ftp = ftp.string\n",
    "                efg = efg.string\n",
    "                tm = tm.string\n",
    "            except:\n",
    "                pass\n",
    "            info = [year, name, tm, pos, pts, asts, blks, stls, rbs, fgp , ftp, efg, url3]\n",
    "            writer.writerow(info)"
   ]
  },
  {
   "cell_type": "code",
   "execution_count": 35,
   "metadata": {},
   "outputs": [],
   "source": [
    "driver = webdriver.Chrome('/Users/courtneytheophin/Documents/fwp/chromedriver') \n",
    "driver.get('https://www.basketball-reference.com/leagues/NBA_1968_per_game.html');\n",
    "time.sleep(5)\n",
    "html = driver.page_source\n",
    "bs = BeautifulSoup(html, \"html.parser\")\n",
    "table = bs.find('table',{ 'id' : 'per_game_stats' })\n",
    "scrape_page(table)\n",
    "#url_td = tr.find('td', {'data-stat': 'player'})\n",
    "#all_links = url_td.find('a')\n",
    "#links = all_links.get('href')\n",
    "#for linx in url.find_all('a'):\n",
    "    #links = linx.get('href')\n",
    "   # print(links)\n",
    "#url2 = url_td.find('a')\n",
    "#url3 = url2.get('href')\n",
    "#print(url3)"
   ]
  },
  {
   "cell_type": "code",
   "execution_count": 36,
   "metadata": {},
   "outputs": [],
   "source": [
    "for n in range(51):\n",
    "    driver.find_element_by_css_selector('.button2.next').click()\n",
    "    s = randint(1, 4)\n",
    "    time.sleep(s)\n",
    "    html = driver.page_source\n",
    "    bs = BeautifulSoup(html, \"html.parser\")\n",
    "    table = bs.find('table',{ 'id' : 'per_game_stats' })\n",
    "    scrape_page(table)\n",
    "    \n",
    "driver.quit()\n",
    "\n",
    "\n",
    "f.close()"
   ]
  },
  {
   "cell_type": "code",
   "execution_count": null,
   "metadata": {},
   "outputs": [],
   "source": []
  },
  {
   "cell_type": "code",
   "execution_count": null,
   "metadata": {},
   "outputs": [],
   "source": []
  },
  {
   "cell_type": "code",
   "execution_count": null,
   "metadata": {},
   "outputs": [],
   "source": []
  },
  {
   "cell_type": "code",
   "execution_count": null,
   "metadata": {},
   "outputs": [],
   "source": []
  },
  {
   "cell_type": "code",
   "execution_count": null,
   "metadata": {},
   "outputs": [],
   "source": []
  },
  {
   "cell_type": "code",
   "execution_count": null,
   "metadata": {},
   "outputs": [],
   "source": []
  },
  {
   "cell_type": "code",
   "execution_count": 37,
   "metadata": {},
   "outputs": [],
   "source": [
    "#cells = row.findAll('td')\n",
    "#first = table.find('tr', {'class': 'full_table'})\n",
    "#names = table.find('td', {'data-stat': 'player'}).get_text()\n",
    "#name = bs.find('td', {'data-stat': 'player'}).get_text()\n",
    "#pg_sg_positions = bs.find('td', {'data-stat':'pos'}).get_text()\n",
    "#url = tr.find('td', {'data-stat': 'efg_pct'})\n",
    "    #row = tr.find('tr', {'class': 'full_table'})\n",
    "    #name = tr.find('td'[0], {'class': 'left'})\n",
    "    #pos = tr.find('td'[1], {'class': 'center'})\n",
    "    #age = tr.find('td'[2], {'class': 'right'})\n",
    "    #team = tr.find('td'[3], {'data-stat': 'team_id'})"
   ]
  }
 ],
 "metadata": {
  "kernelspec": {
   "display_name": "Python 3",
   "language": "python",
   "name": "python3"
  },
  "language_info": {
   "codemirror_mode": {
    "name": "ipython",
    "version": 3
   },
   "file_extension": ".py",
   "mimetype": "text/x-python",
   "name": "python",
   "nbconvert_exporter": "python",
   "pygments_lexer": "ipython3",
   "version": "3.7.2"
  }
 },
 "nbformat": 4,
 "nbformat_minor": 2
}
